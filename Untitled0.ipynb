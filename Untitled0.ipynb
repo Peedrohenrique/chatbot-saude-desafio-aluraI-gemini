{
  "nbformat": 4,
  "nbformat_minor": 0,
  "metadata": {
    "colab": {
      "provenance": [],
      "authorship_tag": "ABX9TyMnTuDwstWBBm9zG6ulzxcT",
      "include_colab_link": true
    },
    "kernelspec": {
      "name": "python3",
      "display_name": "Python 3"
    },
    "language_info": {
      "name": "python"
    }
  },
  "cells": [
    {
      "cell_type": "markdown",
      "metadata": {
        "id": "view-in-github",
        "colab_type": "text"
      },
      "source": [
        "<a href=\"https://colab.research.google.com/github/Peedrohenrique/chatbot-saude-desafio-aluraI-gemini/blob/main/Untitled0.ipynb\" target=\"_parent\"><img src=\"https://colab.research.google.com/assets/colab-badge.svg\" alt=\"Open In Colab\"/></a>"
      ]
    },
    {
      "cell_type": "code",
      "source": [
        "#Instalando o SDK do Google\n",
        "!pip install -q -U google-generativeai"
      ],
      "metadata": {
        "id": "kTDqGB5gWfSs"
      },
      "execution_count": null,
      "outputs": []
    },
    {
      "cell_type": "code",
      "source": [
        "#Configurações iniciais\n",
        "import google.generativeai as genai\n",
        "\n",
        "GOOGLE_API_KEY=\"COLE SUA API KEY\"\n",
        "genai.configure(api_key=GOOGLE_API_KEY)"
      ],
      "metadata": {
        "id": "umeHXKa7XeFq"
      },
      "execution_count": null,
      "outputs": []
    },
    {
      "cell_type": "code",
      "source": [
        "generation_config = {\n",
        "  \"candidate_count\": 1,\n",
        "  \"temperature\": 0.5,\n",
        "}"
      ],
      "metadata": {
        "id": "dg5k8fgDXt32"
      },
      "execution_count": null,
      "outputs": []
    },
    {
      "cell_type": "code",
      "source": [
        "safety_settings={\n",
        "    'HATE': 'BLOCK_NONE',\n",
        "    'HARASSMENT': 'BLOCK_NONE',\n",
        "    'SEXUAL' : 'BLOCK_NONE',\n",
        "    'DANGEROUS' : 'BLOCK_NONE'\n",
        "    }"
      ],
      "metadata": {
        "id": "cZofIAO1Xvmv"
      },
      "execution_count": null,
      "outputs": []
    },
    {
      "cell_type": "code",
      "source": [
        "model = genai.GenerativeModel(model_name='gemini-1.0-pro',\n",
        "                                  generation_config=generation_config,\n",
        "                                  safety_settings=safety_settings,)"
      ],
      "metadata": {
        "id": "WiNluX_yXw83"
      },
      "execution_count": null,
      "outputs": []
    },
    {
      "cell_type": "code",
      "source": [
        "response = model.generate_content(\"Que empresa criou o modelo de IA Gemini?\")\n",
        "response.text"
      ],
      "metadata": {
        "colab": {
          "base_uri": "https://localhost:8080/",
          "height": 35
        },
        "id": "IxYsC9JQXyoD",
        "outputId": "47255923-444e-4e25-9d4b-82cc21e6d2ee"
      },
      "execution_count": null,
      "outputs": [
        {
          "output_type": "execute_result",
          "data": {
            "text/plain": [
              "'Google'"
            ],
            "application/vnd.google.colaboratory.intrinsic+json": {
              "type": "string"
            }
          },
          "metadata": {},
          "execution_count": 16
        }
      ]
    },
    {
      "cell_type": "code",
      "source": [
        "chat = model.start_chat(history=[])\n",
        "\n",
        "print(\"Olá! Seja bem-vindo ao chatbot de saúde.\", '\\n\\n')\n",
        "nome = input(\"Qual o seu nome? \" + '\\n\\n')\n",
        "\n",
        "opcoes = [\"Triagem de sintomas\", \"Informações sobre saúde\", \"Suporte emocional\"]\n",
        "escolha = input(f\"Olá {nome}, O que você gostaria de fazer? \" + str(opcoes) + \"\\n\\n\")\n",
        "\n",
        "if escolha == \"Triagem de sintomas\":\n",
        "    sintoma = input('Qual o sintoma que você está sentindo ' + (nome) + '?' + '\\n\\n')\n",
        "    response = chat.send_message('Atue como profissional da saúde e me diga o que é bom para esse sintoma: ' + (sintoma) + '. Recomende o tratamento e no final me diga isso: Consulte um profissional médico para obter um diagnóstico preciso.' + '\\n\\n')\n",
        "    print(\"Resposta:\", response.text, '\\n\\n')\n",
        "    decisao = input('Deseja mais informações sobre o sintoma, ' + (nome) + '? [\"Sim\", \"Não\"] ?')\n",
        "    if decisao == 'Sim':\n",
        "        response = chat.send_message('Me fale alguma informações sobre esse sintoma' + '\\n\\n')\n",
        "        print(\"Resposta:\", response.text, '\\n\\n')\n",
        "    elif decisao == 'Não':\n",
        "        print('Consulte um profissional médico para obter um diagnóstico preciso.')\n",
        "\n",
        "elif escolha == 'Informações sobre saúde':\n",
        "    response = chat.send_message('Fale-me sobre Informações sobre saúde em poucas linhas e no final em recomende 3 sites falando sobre: doenças, Nutrição e estilo de vida ' + '\\n\\n')\n",
        "    print(\"Resposta:\", response.text, '\\n\\n')\n",
        "\n",
        "elif escolha == 'Suporte emocional':\n",
        "    response = chat.send_message('Estou precisando de '+ (escolha) +', Me ajude em poucas palavras e converse comigo como se fosse um amigo ?' + '\\n\\n')\n",
        "    print(\"Resposta:\", response.text, '\\n\\n')\n",
        "    emocional = input('Escreva...?' + '\\n\\n')\n",
        "\n",
        "    while emocional != \"fim\":\n",
        "        response = chat.send_message(emocional)\n",
        "        print(\"Resposta:\", response.text, '\\n\\n')\n",
        "        emocional = input('Escreva...?' + '\\n\\n')"
      ],
      "metadata": {
        "colab": {
          "base_uri": "https://localhost:8080/",
          "height": 1000
        },
        "id": "nJDNeJSSX0ZZ",
        "outputId": "28ccc872-c2a8-4ded-c95f-d1c9ea2dead0"
      },
      "execution_count": null,
      "outputs": [
        {
          "output_type": "stream",
          "name": "stdout",
          "text": [
            "Olá! Seja bem-vindo ao chatbot de saúde. \n",
            "\n",
            "\n",
            "Qual o seu nome? \n",
            "\n",
            "Pedro\n",
            "Olá Pedro, O que você gostaria de fazer? ['Triagem de sintomas', 'Informações sobre saúde', 'Suporte emocional']\n",
            "\n",
            "Triagem de sintomas\n",
            "Qual o sintoma que você está sentindo Pedro?\n",
            "\n",
            "Dor no corpo\n",
            "Resposta: **Tratamento para Dor no Corpo:**\n",
            "\n",
            "* **Medicamentos analgésicos:** Como ibuprofeno, naproxeno ou paracetamol, para aliviar a dor.\n",
            "* **Compressas quentes ou frias:** Aplicar compressas quentes nas áreas doloridas pode ajudar a relaxar os músculos, enquanto compressas frias podem reduzir o inchaço e a dor.\n",
            "* **Massagem:** Uma massagem suave pode ajudar a aliviar a tensão muscular e promover o relaxamento.\n",
            "* **Exercícios leves:** Exercícios leves, como caminhar ou nadar, podem ajudar a melhorar a circulação e reduzir a dor.\n",
            "* **Descanso:** O descanso adequado é essencial para permitir que o corpo se recupere.\n",
            "\n",
            "**Observação importante:** Consulte um profissional médico para obter um diagnóstico preciso e orientação sobre o tratamento adequado. A dor no corpo pode ser um sintoma de uma condição subjacente que requer atenção médica. \n",
            "\n",
            "\n",
            "Deseja mais informações sobre o sintoma, Pedro? [\"Sim\", \"Não\"] ?Sim\n",
            "Resposta: **Dor no Corpo**\n",
            "\n",
            "**Descrição:**\n",
            "\n",
            "A dor no corpo é um sintoma comum que pode afetar qualquer parte do corpo, incluindo músculos, articulações, ossos e tecidos moles. Pode variar de leve a intensa e pode ser aguda (de curta duração) ou crônica (de longa duração).\n",
            "\n",
            "**Causas:**\n",
            "\n",
            "As causas da dor no corpo são diversas e podem incluir:\n",
            "\n",
            "* Lesões (como entorses, distensões e fraturas)\n",
            "* Condições musculoesqueléticas (como artrite, fibromialgia e dor lombar)\n",
            "* Infecções (como gripe e infecções virais)\n",
            "* Doenças autoimunes (como lúpus e artrite reumatoide)\n",
            "* Estresse e ansiedade\n",
            "* Falta de sono\n",
            "* Má postura\n",
            "\n",
            "**Sintomas:**\n",
            "\n",
            "Além da dor, outros sintomas que podem acompanhar a dor no corpo incluem:\n",
            "\n",
            "* Rigidez\n",
            "* Inchaço\n",
            "* Vermelhidão\n",
            "* Calor\n",
            "* Formigamento ou dormência\n",
            "* Fadiga\n",
            "\n",
            "**Diagnóstico:**\n",
            "\n",
            "O diagnóstico da dor no corpo geralmente envolve um exame físico e histórico médico. O médico pode solicitar exames de imagem, como raios-X ou ressonância magnética, para identificar a causa subjacente.\n",
            "\n",
            "**Tratamento:**\n",
            "\n",
            "O tratamento da dor no corpo depende da causa subjacente. As opções de tratamento podem incluir:\n",
            "\n",
            "* Medicamentos (como analgésicos, anti-inflamatórios e relaxantes musculares)\n",
            "* Terapia física\n",
            "* Massagem\n",
            "* Exercícios\n",
            "* Modificações no estilo de vida (como perda de peso e melhoria da postura)\n",
            "\n",
            "**Quando procurar atendimento médico:**\n",
            "\n",
            "É importante procurar atendimento médico se a dor no corpo for:\n",
            "\n",
            "* Grave ou persistente\n",
            "* Acompanhada de outros sintomas, como febre, calafrios ou perda de peso\n",
            "* Não melhora com medidas caseiras\n",
            "* Interfere nas atividades diárias \n",
            "\n",
            "\n"
          ]
        }
      ]
    },
    {
      "cell_type": "code",
      "source": [
        "#Melhorando a visualização\n",
        "#Código disponível em https://ai.google.dev/tutorials/python_quickstart#import_packages\n",
        "import textwrap\n",
        "from IPython.display import display\n",
        "from IPython.display import Markdown\n",
        "\n",
        "def to_markdown(text):\n",
        "  text = text.replace('•', '  *')\n",
        "  return Markdown(textwrap.indent(text, '> ', predicate=lambda _: True))\n",
        "\n",
        "#Imprimindo o histórico\n",
        "for message in chat.history:\n",
        "  display(to_markdown(f'**{message.role}**: {message.parts[0].text}'))\n",
        "  print('-------------------------------------------')"
      ],
      "metadata": {
        "colab": {
          "base_uri": "https://localhost:8080/",
          "height": 253
        },
        "id": "3KoUoY9rX8Dp",
        "outputId": "8c6fa226-8114-4062-93af-d619ca1c2b1a"
      },
      "execution_count": null,
      "outputs": [
        {
          "output_type": "display_data",
          "data": {
            "text/plain": [
              "<IPython.core.display.Markdown object>"
            ],
            "text/markdown": "> **user**: Estou dodoi"
          },
          "metadata": {}
        },
        {
          "output_type": "stream",
          "name": "stdout",
          "text": [
            "-------------------------------------------\n"
          ]
        },
        {
          "output_type": "display_data",
          "data": {
            "text/plain": [
              "<IPython.core.display.Markdown object>"
            ],
            "text/markdown": "> **model**: Sinto muito que você não esteja se sentindo bem. Espero que você se recupere logo. Aqui estão algumas dicas para ajudá-lo a se sentir melhor:\n> \n> * **Descanse bastante.** Seu corpo precisa de tempo para se curar, então certifique-se de descansar bastante.\n> * **Beba muitos líquidos.** Isso ajudará a mantê-lo hidratado e a eliminar as toxinas do seu corpo.\n> * **Coma alimentos saudáveis.** Comer alimentos saudáveis ​​ajudará seu corpo a se recuperar mais rapidamente.\n> * **Tome medicamentos conforme necessário.** Se você estiver com dor ou febre, tome medicamentos para aliviar os sintomas.\n> * **Procure atendimento médico se necessário.** Se seus sintomas piorarem ou não melhorarem após alguns dias, procure atendimento médico."
          },
          "metadata": {}
        },
        {
          "output_type": "stream",
          "name": "stdout",
          "text": [
            "-------------------------------------------\n"
          ]
        }
      ]
    }
  ]
}